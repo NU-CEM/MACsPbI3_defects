{
 "cells": [
  {
   "cell_type": "markdown",
   "id": "3b2b45b2",
   "metadata": {},
   "source": [
    "# Geometry analysis of Pb-I bond length and Pb-I-Pb bond angles"
   ]
  },
  {
   "cell_type": "code",
   "execution_count": 3,
   "id": "e9a76d73",
   "metadata": {},
   "outputs": [],
   "source": [
    "import ase\n",
    "from ase import io\n",
    "from ase.geometry import analysis\n",
    "import numpy as np"
   ]
  },
  {
   "cell_type": "code",
   "execution_count": 49,
   "id": "6eb07870",
   "metadata": {},
   "outputs": [],
   "source": [
    "def get_PbIPb_angles(filepath):\n",
    "    \n",
    "    atoms = ase.io.read(filepath)\n",
    "    analysis = ase.geometry.analysis.Analysis(atoms)\n",
    "    PbIPbAngles = analysis.get_angles('Pb','I','Pb', unique=True)\n",
    "    print(\"There are {} Pb-I-Pb angles in a supercell of 16 12-atom primitive cells.\".format(len(PbIPbAngles[0])))\n",
    "    PbIPbanglevalues = analysis.get_values(PbIPbAngles)\n",
    "    print(\"The average Pb-I-Pb angle is {}.\".format(np.average(PbIPbanglevalues)))\n",
    "    print(\"The standard deviation is {}.\".format(np.std(PbIPbanglevalues)))\n",
    "    return PbIPbanglevalues[0]\n",
    "    \n",
    "def get_PbI_bonds(filepath):\n",
    "    \n",
    "    atoms = ase.io.read(filepath)\n",
    "    analysis = ase.geometry.analysis.Analysis(atoms)\n",
    "    PbIBonds = analysis.get_bonds('Pb', 'I', unique=True)\n",
    "    print(\"There are {} Pb-I bonds in a supercell of 16 12-atom primitive cells.\".format(len(PbIBonds[0])))\n",
    "    PbIbondvalues = analysis.get_values(PbIBonds)\n",
    "    print(\"The average Pb-I bond length is {}.\".format(np.average(PbIbondvalues)))\n",
    "    print(\"The standard deviation is {}.\".format(np.std(PbIbondvalues)))\n",
    "    return PbIbondvalues[0]\n",
    "\n",
    "def change_in_angle(charge1_filepath, charge2_filepath, append_angles=None):\n",
    "    \n",
    "    atoms = ase.io.read(charge1_filepath)\n",
    "    analysis = ase.geometry.analysis.Analysis(atoms)\n",
    "\n",
    "    PbIPbAngles = analysis.get_angles('Pb','I','Pb', unique=True)[0]\n",
    "    # some values are missed in the automatic find\n",
    "    [PbIPbAngles.append(x) for x in append_angles]\n",
    "\n",
    "    print(\"Number of angles: \",len(PbIPbAngles))\n",
    "\n",
    "    PbIPbanglevalues_charge1 = np.array(analysis.get_values([PbIPbAngles])[0])\n",
    "    print(\"The average Pb-I-Pb angle for the first charge state is {}.\".format(np.average(PbIPbanglevalues_charge1)))\n",
    "    atoms = ase.io.read(charge2_filepath)\n",
    "    analysis = ase.geometry.analysis.Analysis(atoms)\n",
    "    PbIPbanglevalues_charge2 = np.array(analysis.get_values([PbIPbAngles])[0])\n",
    "    print(\"The average Pb-I-Pb angle for the second charge state is {}.\".format(np.average(PbIPbanglevalues_charge2)))\n",
    "\n",
    "    print(\"The mean change in Pb-I-Pb angle is {}.\".format(np.mean(np.abs(PbIPbanglevalues_charge1-PbIPbanglevalues_charge2))))\n",
    "    print(\"The standard deviation is {}.\".format(np.std(np.abs(PbIPbanglevalues_charge1-PbIPbanglevalues_charge2))))\n",
    "    # this corresponds to arc length of sector:  𝜃/360o (2𝜋r) \n",
    "    \n",
    "def change_in_bondlength(charge1_filepath, charge2_filepath, append_bonds=[]):\n",
    "    \n",
    "    atoms = ase.io.read(charge1_filepath)\n",
    "    analysis = ase.geometry.analysis.Analysis(atoms)\n",
    "    \n",
    "    PbI_bonds = analysis.get_bonds('Pb', 'I', unique=True)[0]\n",
    "    [PbI_bonds.append(x) for x in append_bonds]\n",
    "    \n",
    "    print(\"Number of bonds: \",len(PbI_bonds))\n",
    "    \n",
    "    PbIbondvalues_charge1 = np.array(analysis.get_values([PbI_bonds])[0])\n",
    "    print(\"The average Pb-I bond length for the first charge state is {}.\".format(np.mean(PbIbondvalues_neut)))\n",
    "\n",
    "    atoms = ase.io.read(charge2_filepath)\n",
    "    analysis = ase.geometry.analysis.Analysis(atoms)\n",
    "    PbIbondvalues_charge2 = np.array(analysis.get_values([PbI_bonds])[0])\n",
    "    print(\"The average Pb-I bond length for the second charge state is {}.\".format(np.average(PbIbondvalues_charge2)))\n",
    "\n",
    "    print(\"The mean change in Pb-I length is {}.\".format(np.mean(np.abs(PbIbondvalues_charge2-PbIbondvalues_charge1))))\n",
    "    print(\"The standard deviation is {}.\".format(np.std(np.abs(PbIbondvalues_charge2-PbIbondvalues_charge1))))\n"
   ]
  },
  {
   "cell_type": "markdown",
   "id": "51b4121b",
   "metadata": {},
   "source": [
    "# Average Pb-I-Pb bond angle in pristine structures"
   ]
  },
  {
   "cell_type": "code",
   "execution_count": 38,
   "id": "18f1d05e",
   "metadata": {},
   "outputs": [
    {
     "name": "stdout",
     "output_type": "stream",
     "text": [
      "~~~~~ MAPI ~~~~~\n",
      "There are 48 Pb-I-Pb angles in a supercell of 16 12-atom primitive cells.\n",
      "The average Pb-I-Pb angle is 168.20070254658708.\n",
      "The standard deviation is 2.7719404454872643.\n",
      "\n",
      " ~~~~~ MAPI:MACsI 2:14 ~~~~~\n",
      "There are 48 Pb-I-Pb angles in a supercell of 16 12-atom primitive cells.\n",
      "The average Pb-I-Pb angle is 161.88639668868103.\n",
      "The standard deviation is 8.112787314154437.\n",
      "\n",
      " ~~~~~ MAPI:MACsI 4:12 ~~~~~\n",
      "There are 48 Pb-I-Pb angles in a supercell of 16 12-atom primitive cells.\n",
      "The average Pb-I-Pb angle is 156.2344579797991.\n",
      "The standard deviation is 7.732296019770837.\n",
      "\n",
      " ~~~~~ MAPI:MACsI 8:8 ~~~~~\n",
      "There are 48 Pb-I-Pb angles in a supercell of 16 12-atom primitive cells.\n",
      "The average Pb-I-Pb angle is 157.56592736567572.\n",
      "The standard deviation is 8.981175851690711.\n"
     ]
    }
   ],
   "source": [
    "print(\"~~~~~ MAPI ~~~~~\")\n",
    "PbIPb_angles = get_PbIPb_angles(\"./structures/POSCAR_perfect.vasp\")\n",
    "\n",
    "print(\"\\n\",\"~~~~~ MAPI:MACsI 2:14 ~~~~~\")\n",
    "PbIPb_angles = get_PbIPb_angles(\"./structures/POSCAR_MixedCation2-14.vasp\")\n",
    "\n",
    "\n",
    "print(\"\\n\",\"~~~~~ MAPI:MACsI 4:12 ~~~~~\")\n",
    "PbIPb_angles = get_PbIPb_angles(\"./structures/POSCAR_MixedCation4-12.vasp\")\n",
    "\n",
    "print(\"\\n\",\"~~~~~ MAPI:MACsI 8:8 ~~~~~\")\n",
    "PbIPb_angles = get_PbIPb_angles(\"./structures/POSCAR_MixedCation8-8.vasp\")"
   ]
  },
  {
   "cell_type": "markdown",
   "id": "549c6a37",
   "metadata": {},
   "source": [
    "# Average change in Pb-I-Pb bond angle after carrier capture"
   ]
  },
  {
   "cell_type": "code",
   "execution_count": 47,
   "id": "060ac53a",
   "metadata": {},
   "outputs": [
    {
     "name": "stdout",
     "output_type": "stream",
     "text": [
      "\n",
      " ~~~~~ MAPI ~~~~~\n",
      "Number of angles:  49\n",
      "The average Pb-I-Pb angle for the first charge state is 159.14100586553621.\n",
      "The average Pb-I-Pb angle for the second charge state is 157.52304629262218.\n",
      "The mean change in Pb-I-Pb angle is 6.031966700497025.\n",
      "The standard deviation is 7.038563928615585.\n",
      "\n",
      " ~~~~~ (MA14,Cs2)PbI ~~~~~\n",
      "Number of angles:  49\n",
      "The average Pb-I-Pb angle for the first charge state is 157.98435559986828.\n",
      "The average Pb-I-Pb angle for the second charge state is 156.0138305428672.\n",
      "The mean change in Pb-I-Pb angle is 4.783703780784783.\n",
      "The standard deviation is 5.014186354696255.\n",
      "\n",
      " ~~~~~ (MA12,Cs4)PbI ~~~~~\n",
      "Number of angles:  49\n",
      "The average Pb-I-Pb angle for the first charge state is 154.54136984488332.\n",
      "The average Pb-I-Pb angle for the second charge state is 153.10737198838885.\n",
      "The mean change in Pb-I-Pb angle is 3.60903603351323.\n",
      "The standard deviation is 4.742999052274407.\n",
      "\n",
      " ~~~~~ (MA8,Cs8)PbI ~~~~~\n",
      "Number of angles:  49\n",
      "The average Pb-I-Pb angle for the first charge state is 154.8152274217148.\n",
      "The average Pb-I-Pb angle for the second charge state is 153.90634255002516.\n",
      "The mean change in Pb-I-Pb angle is 3.774810027715603.\n",
      "The standard deviation is 3.6275244645926636.\n"
     ]
    }
   ],
   "source": [
    "print(\"\\n\",\"~~~~~ MAPI ~~~~~\")\n",
    "change_in_angle(\"./structures/POSCAR_MAPI_Neutral_OP.vasp\", \"./structures/POSCAR_MAPI_Negative_OP.vasp\", append_angles=[(134,151,135),(135,192,143),(143,191,135)])\n",
    "\n",
    "print(\"\\n\",\"~~~~~ (MA14,Cs2)PbI ~~~~~\")\n",
    "change_in_angle(\"./structures/POSCAR_MixedNeutOP2-14.vasp\", \"./structures/POSCAR_MixedNegOP2-14.vasp\", append_angles=[(113, 129, 114),(124, 161, 113),(113, 176, 124)])\n",
    "\n",
    "print(\"\\n\",\"~~~~~ (MA12,Cs4)PbI ~~~~~\")\n",
    "change_in_angle(\"./structures/POSCAR_MixedNeutOP4-12.vasp\",\"./structures/POSCAR_MixedNegOP4-12.vasp\", append_angles=[(108, 145, 97),(108, 146, 97),(97, 113, 98)])\n",
    "\n",
    "print(\"\\n\",\"~~~~~ (MA8,Cs8)PbI ~~~~~\")\n",
    "change_in_angle(\"./structures/POSCAR_MixedNeutOP8-8.vasp\",\"./structures/POSCAR_MixedNegOP8-8.vasp\", append_angles=[(65, 128, 76),(77, 93, 76)])\n",
    "\n"
   ]
  },
  {
   "cell_type": "markdown",
   "id": "34ccab67",
   "metadata": {},
   "source": [
    "# Average change in Pb-I bond length after carrier capture"
   ]
  },
  {
   "cell_type": "code",
   "execution_count": 50,
   "id": "9685b814",
   "metadata": {},
   "outputs": [
    {
     "name": "stdout",
     "output_type": "stream",
     "text": [
      "\n",
      " ~~~~~ MAPI ~~~~~\n",
      "Number of bonds:  96\n",
      "The average Pb-I bond length for the first charge state is 3.2041834568534284.\n",
      "The average Pb-I bond length for the second charge state is 3.2257860383336925.\n",
      "The mean change in Pb-I length is 0.05416270301410414.\n",
      "The standard deviation is 0.10308198597446151.\n",
      "\n",
      " ~~~~~ (MA14,Cs2)PbI ~~~~~\n",
      "Number of bonds:  96\n",
      "The average Pb-I bond length for the first charge state is 3.2041834568534284.\n",
      "The average Pb-I bond length for the second charge state is 3.208484341337678.\n",
      "The mean change in Pb-I length is 0.040880929399411806.\n",
      "The standard deviation is 0.08002389823845654.\n",
      "\n",
      " ~~~~~ (MA12,Cs4)PbI ~~~~~\n",
      "Number of bonds:  96\n",
      "The average Pb-I bond length for the first charge state is 3.2041834568534284.\n",
      "The average Pb-I bond length for the second charge state is 3.205709622356435.\n",
      "The mean change in Pb-I length is 0.034502578239220295.\n",
      "The standard deviation is 0.07030511070233049.\n",
      "\n",
      " ~~~~~ (MA8,Cs8)PbI ~~~~~\n",
      "Number of bonds:  96\n",
      "The average Pb-I bond length for the first charge state is 3.2041834568534284.\n",
      "The average Pb-I bond length for the second charge state is 3.195261649895586.\n",
      "The mean change in Pb-I length is 0.02833277374724499.\n",
      "The standard deviation is 0.030059467355925476.\n"
     ]
    }
   ],
   "source": [
    "print(\"\\n\",\"~~~~~ MAPI ~~~~~\")\n",
    "change_in_bondlength(\"./structures/POSCAR_MAPI_Neutral_OP.vasp\", \"./structures/POSCAR_MAPI_Negative_OP.vasp\", append_bonds=[(135, 151)])\n",
    "\n",
    "print(\"\\n\",\"~~~~~ (MA14,Cs2)PbI ~~~~~\")\n",
    "change_in_bondlength(\"./structures/POSCAR_MixedNeutOP2-14.vasp\", \"./structures/POSCAR_MixedNegOP2-14.vasp\", append_bonds=[(113, 129)])\n",
    "\n",
    "print(\"\\n\",\"~~~~~ (MA12,Cs4)PbI ~~~~~\")\n",
    "change_in_bondlength(\"./structures/POSCAR_MixedNeutOP4-12.vasp\",\"./structures/POSCAR_MixedNegOP4-12.vasp\", append_bonds=[(97, 113)])\n",
    "\n",
    "print(\"\\n\",\"~~~~~ (MA8,Cs8)PbI ~~~~~\")\n",
    "change_in_bondlength(\"./structures/POSCAR_MixedNeutOP8-8.vasp\",\"./structures/POSCAR_MixedNegOP8-8.vasp\")\n",
    "\n",
    "\n"
   ]
  }
 ],
 "metadata": {
  "kernelspec": {
   "display_name": "Python 3 (ipykernel)",
   "language": "python",
   "name": "python3"
  },
  "language_info": {
   "codemirror_mode": {
    "name": "ipython",
    "version": 3
   },
   "file_extension": ".py",
   "mimetype": "text/x-python",
   "name": "python",
   "nbconvert_exporter": "python",
   "pygments_lexer": "ipython3",
   "version": "3.9.6"
  }
 },
 "nbformat": 4,
 "nbformat_minor": 5
}
