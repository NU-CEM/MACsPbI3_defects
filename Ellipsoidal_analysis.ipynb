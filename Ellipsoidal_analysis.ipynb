{
 "cells": [
  {
   "cell_type": "markdown",
   "metadata": {},
   "source": [
    "# Ellipsoidal analysis\n",
    "\n"
   ]
  },
  {
   "cell_type": "code",
   "execution_count": 12,
   "metadata": {},
   "outputs": [],
   "source": [
    "import pieface\n",
    "import numpy as np\n",
    "import pickle\n",
    "import math"
   ]
  },
  {
   "cell_type": "markdown",
   "metadata": {},
   "source": [
    "### Option 1: Find PbI6 octahedra and fit ellipsoids using pieface\n",
    "\n",
    "Note that this is a relatively time consuming process, so the generated data is also available in pickle format as an alternative to running the cell below (see \"Option 2: read in pieface generated data\")."
   ]
  },
  {
   "cell_type": "code",
   "execution_count": null,
   "metadata": {},
   "outputs": [],
   "source": [
    "# radius should be chosen carefully as determines which iodine are included in polyhedra.\n",
    "\n",
    "### MAPI data\n",
    "crystal_MAPI_perfect = pieface.calcellipsoid.calcfromcif(\"./data/Ellipsoid_data/structure_160.cif\", [\"Pb1\",\"Pb2\",\"Pb3\",\"Pb4\",\"Pb5\",\"Pb6\",\"Pb7\",\"Pb8\",\"Pb9\",\"Pb10\",\"Pb11\",\"Pb12\",\"Pb13\",\"Pb14\",\"Pb15\",\"Pb16\"], radius=3.5, allligtypes=\"I\",)\n",
    "\n",
    "### MA:Cs 14:2\n",
    "crystal_214_perfect = pieface.calcellipsoid.calcfromcif(\"./data/Ellipsoid_data/structure_142.cif\", [\"Pb1\",\"Pb2\",\"Pb3\",\"Pb4\",\"Pb5\",\"Pb6\",\"Pb7\",\"Pb8\",\"Pb9\",\"Pb10\",\"Pb11\",\"Pb12\",\"Pb13\",\"Pb14\",\"Pb15\",\"Pb16\"], radius=3.5, allligtypes=\"I\")\n",
    "\n",
    "### MA:Cs 12:4\n",
    "crystal_412_perfect = pieface.calcellipsoid.calcfromcif(\"./data/Ellipsoid_data/structure_124.cif\", [\"Pb1\",\"Pb2\",\"Pb3\",\"Pb4\",\"Pb5\",\"Pb6\",\"Pb7\",\"Pb8\",\"Pb9\",\"Pb10\",\"Pb11\",\"Pb12\",\"Pb13\",\"Pb14\",\"Pb15\",\"Pb16\"], radius=3.7, allligtypes=\"I\")\n",
    "\n",
    "### MA:Cs 8:8\n",
    "crystal_88_perfect = pieface.calcellipsoid.calcfromcif(\"./data/Ellipsoid_data/structure_88.cif\", [\"Pb1\",\"Pb2\",\"Pb3\",\"Pb4\",\"Pb5\",\"Pb6\",\"Pb7\",\"Pb8\",\"Pb9\",\"Pb10\",\"Pb11\",\"Pb12\",\"Pb13\",\"Pb14\",\"Pb15\",\"Pb16\"], radius=4.0, allligtypes=\"I\")"
   ]
  },
  {
   "cell_type": "markdown",
   "metadata": {},
   "source": [
    "### Option 2: read in pieface generated data"
   ]
  },
  {
   "cell_type": "code",
   "execution_count": 13,
   "metadata": {},
   "outputs": [],
   "source": [
    "crystal_MAPI_perfect = pickle.load(open(\"./data/Ellipsoid_data/ellipsoid_160.pkl\",'rb'))\n",
    "crystal_214_perfect = pickle.load(open(\"./data/Ellipsoid_data/ellipsoid_142.pkl\"))\n",
    "crystal_412_perfect = pickle.load(open(\"./data/Ellipsoid_data/ellipsoid_124.pkl\"))\n",
    "crystal_88_perfect = pickle.load(open(\"./data/Ellipsoid_data/ellipsoid_88.pkl\"))"
   ]
  },
  {
   "cell_type": "markdown",
   "metadata": {},
   "source": [
    "### Calculate average ellipsoid properties for each of the pristine structures"
   ]
  },
  {
   "cell_type": "code",
   "execution_count": 14,
   "metadata": {},
   "outputs": [],
   "source": [
    "def calc_averages(crystal):\n",
    "    ellipsvol = []\n",
    "    S= []\n",
    "    R = []\n",
    "    sigma_R = []\n",
    "    for poly in [crystal.Pb1_poly,crystal.Pb2_poly,crystal.Pb3_poly,crystal.Pb4_poly,crystal.Pb5_poly,crystal.Pb6_poly,crystal.Pb7_poly,crystal.Pb8_poly,crystal.Pb9_poly,crystal.Pb10_poly,crystal.Pb11_poly,crystal.Pb12_poly,crystal.Pb13_poly,crystal.Pb14_poly,crystal.Pb15_poly,crystal.Pb16_poly]:\n",
    "        ellipsvol.append(poly.ellipsoid.ellipsvol())\n",
    "        S.append(poly.ellipsoid.shapeparam())\n",
    "        R.append(poly.ellipsoid.meanrad())\n",
    "        sigma_R.append(poly.ellipsoid.radvar())\n",
    "    print(\"volume: \",sum(ellipsvol)/len(ellipsvol))\n",
    "    print(\"volume std: \",np.std(ellipsvol))\n",
    "    print(\"S: \",sum(S)/len(S))\n",
    "    print(\"S std: \",np.std(S))\n",
    "    print(\"R: \",sum(R)/len(R))\n",
    "    print(\"R_var: \",sum(sigma_R)/len(sigma_R))\n",
    "        "
   ]
  },
  {
   "cell_type": "code",
   "execution_count": 15,
   "metadata": {},
   "outputs": [
    {
     "name": "stdout",
     "output_type": "stream",
     "text": [
      "('volume: ', 132.66464485475828)\n",
      "('volume std: ', 2.6512862247164062e-12)\n",
      "('S: ', 0.004662780362803334)\n",
      "('S std: ', 2.5340730335338224e-14)\n",
      "('R: ', 3.1639754734936734)\n",
      "('R_var: ', 0.0005038023002657183)\n"
     ]
    }
   ],
   "source": [
    "calc_averages(crystal_MAPI_perfect)"
   ]
  },
  {
   "cell_type": "code",
   "execution_count": 16,
   "metadata": {},
   "outputs": [
    {
     "name": "stdout",
     "output_type": "stream",
     "text": [
      "('volume: ', 134.04171375666905)\n",
      "('volume std: ', 0.2502543042246463)\n",
      "('S: ', 0.004227589726572736)\n",
      "('S std: ', 0.00812548749993607)\n",
      "('R: ', 3.1754926760485733)\n",
      "('R_var: ', 0.004382531253457201)\n"
     ]
    }
   ],
   "source": [
    "calc_averages(crystal_214_perfect)"
   ]
  },
  {
   "cell_type": "code",
   "execution_count": 17,
   "metadata": {},
   "outputs": [
    {
     "name": "stdout",
     "output_type": "stream",
     "text": [
      "('volume: ', 135.0584196660799)\n",
      "('volume std: ', 0.4724537945092703)\n",
      "('S: ', -0.0045866867516857895)\n",
      "('S std: ', 0.027387705387253568)\n",
      "('R: ', 3.1838825323670434)\n",
      "('R_var: ', 0.006812309031249246)\n"
     ]
    }
   ],
   "source": [
    "calc_averages(crystal_412_perfect)"
   ]
  },
  {
   "cell_type": "code",
   "execution_count": 7,
   "metadata": {},
   "outputs": [
    {
     "name": "stdout",
     "output_type": "stream",
     "text": [
      "('volume: ', 134.14560099262954)\n",
      "('volume std: ', 0.6625036266429557)\n",
      "('S: ', 0.004972399779334238)\n",
      "('S std: ', 0.016828774367782254)\n",
      "('R: ', 3.1761813783449897)\n",
      "('R_var: ', 0.003587544446523986)\n"
     ]
    }
   ],
   "source": [
    "calc_averages(crystal_88_perfect)"
   ]
  }
 ],
 "metadata": {
  "kernelspec": {
   "display_name": "Python 2",
   "language": "python",
   "name": "python2"
  },
  "language_info": {
   "codemirror_mode": {
    "name": "ipython",
    "version": 2
   },
   "file_extension": ".py",
   "mimetype": "text/x-python",
   "name": "python",
   "nbconvert_exporter": "python",
   "pygments_lexer": "ipython2",
   "version": "2.7.18"
  }
 },
 "nbformat": 4,
 "nbformat_minor": 2
}
